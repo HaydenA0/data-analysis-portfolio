{
 "cells": [
  {
   "cell_type": "code",
   "execution_count": 1,
   "id": "e1b26512",
   "metadata": {},
   "outputs": [],
   "source": [
    "import seaborn as sns\n",
    "import matplotlib.pyplot as plt\n",
    "import pandas as pd\n",
    "import numpy as np\n",
    "from sklearn.model_selection import train_test_split\n",
    "from sklearn.preprocessing import OneHotEncoder\n",
    "from xgboost import XGBRegressor\n",
    "from sklearn.metrics import accuracy_score, roc_auc_score, confusion_matrix\n",
    "from sklearn.tree import DecisionTreeClassifier\n",
    "from xgboost import plot_tree\n",
    "from sklearn.linear_model import LogisticRegression\n"
   ]
  },
  {
   "cell_type": "code",
   "execution_count": 5,
   "id": "ac0ca835",
   "metadata": {},
   "outputs": [],
   "source": [
    "raw = pd.read_csv(\"../data/raw.csv\")\n"
   ]
  },
  {
   "cell_type": "code",
   "execution_count": 6,
   "id": "cc65d0f1",
   "metadata": {},
   "outputs": [],
   "source": [
    "def clean(data):\n",
    "    return data[data[\"gender\"] != \"Other\"]"
   ]
  },
  {
   "cell_type": "code",
   "execution_count": 7,
   "id": "6bf4eb83",
   "metadata": {},
   "outputs": [],
   "source": [
    "data = clean(raw)"
   ]
  },
  {
   "cell_type": "code",
   "execution_count": 8,
   "id": "af0694b2",
   "metadata": {},
   "outputs": [],
   "source": [
    "def plot(data):\n",
    "    sns.set_theme(style=\"whitegrid\")\n",
    "    fig, axes = plt.subplots(5, 3, figsize=(20, 30))\n",
    "    axes = axes.flatten()\n",
    "\n",
    "    sns.countplot(\n",
    "        x=\"diabetes\",\n",
    "        data=data,\n",
    "        ax=axes[0],\n",
    "        palette=\"viridis\",\n",
    "        hue=\"diabetes\",\n",
    "        legend=False,\n",
    "    )\n",
    "    axes[0].set_title(\"Distribution of Diabetes Status (0=No, 1=Yes)\")\n",
    "    axes[0].set_xlabel(\"Diabetes Status\")  # Corrected label\n",
    "\n",
    "    sns.histplot(data=data, x=\"age\", ax=axes[1], color=\"skyblue\", bins=30)\n",
    "    axes[1].set_title(\"Age Distribution\")\n",
    "\n",
    "    bmi_finite = data.loc[np.isfinite(data[\"bmi\"]), \"bmi\"]\n",
    "    sns.histplot(data=bmi_finite, ax=axes[2], color=\"lightcoral\", bins=30)\n",
    "    axes[2].set_title(\"BMI Distribution\")\n",
    "    axes[2].set_xlabel(\"BMI\")\n",
    "    sns.histplot(data=data, x=\"HbA1c_level\", kde=True, ax=axes[3], color=\"lightgreen\")\n",
    "    axes[3].set_title(\"HbA1c Level Distribution\")\n",
    "\n",
    "    sns.histplot(data=data, x=\"blood_glucose_level\", kde=True, ax=axes[4], color=\"gold\")\n",
    "    axes[4].set_title(\"Blood Glucose Level Distribution\")\n",
    "\n",
    "    sns.countplot(\n",
    "        y=\"smoking_history\",\n",
    "        data=data,\n",
    "        ax=axes[5],\n",
    "        palette=\"Spectral\",\n",
    "        order=data[\"smoking_history\"].value_counts().index,\n",
    "    )\n",
    "    axes[5].set_title(\"Smoking History Distribution\")\n",
    "    axes[5].tick_params(axis=\"y\", rotation=0)\n",
    "\n",
    "    sns.boxplot(\n",
    "        x=\"diabetes\",\n",
    "        y=\"age\",\n",
    "        data=data,\n",
    "        ax=axes[6],\n",
    "        palette=\"coolwarm\",\n",
    "        hue=\"diabetes\",\n",
    "        legend=False,\n",
    "    )\n",
    "    axes[6].set_title(\"Age Distribution by Diabetes Status\")\n",
    "    axes[6].set_xlabel(\"Diabetes Status (0=No, 1=Yes)\")\n",
    "\n",
    "    sns.boxplot(\n",
    "        x=\"diabetes\",\n",
    "        y=\"bmi\",\n",
    "        data=data,\n",
    "        ax=axes[7],\n",
    "        palette=\"coolwarm\",\n",
    "        hue=\"diabetes\",\n",
    "        legend=False,\n",
    "    )\n",
    "    axes[7].set_title(\"BMI Distribution by Diabetes Status\")\n",
    "    axes[7].set_xlabel(\"Diabetes Status (0=No, 1=Yes)\")\n",
    "\n",
    "    sns.boxplot(\n",
    "        x=\"diabetes\",\n",
    "        y=\"HbA1c_level\",\n",
    "        data=data,\n",
    "        ax=axes[8],\n",
    "        palette=\"coolwarm\",\n",
    "        hue=\"diabetes\",\n",
    "        legend=False,\n",
    "    )\n",
    "    axes[8].set_title(\"HbA1c Level by Diabetes Status\")\n",
    "    axes[8].set_xlabel(\"Diabetes Status (0=No, 1=Yes)\")\n",
    "\n",
    "    sns.boxplot(\n",
    "        x=\"diabetes\",\n",
    "        y=\"blood_glucose_level\",\n",
    "        data=data,\n",
    "        ax=axes[9],\n",
    "        palette=\"coolwarm\",\n",
    "        hue=\"diabetes\",\n",
    "        legend=False,\n",
    "    )\n",
    "    axes[9].set_title(\"Blood Glucose Level by Diabetes Status\")\n",
    "    axes[9].set_xlabel(\"Diabetes Status (0=No, 1=Yes)\")\n",
    "\n",
    "    sns.countplot(\n",
    "        x=\"smoking_history\",\n",
    "        hue=\"diabetes\",\n",
    "        data=data,\n",
    "        ax=axes[10],\n",
    "        palette=\"pastel\",\n",
    "        order=data[\"smoking_history\"].value_counts().index,\n",
    "    )\n",
    "    axes[10].set_title(\"Smoking History by Diabetes Status\")\n",
    "    axes[10].tick_params(axis=\"x\", rotation=45)\n",
    "    axes[10].set_xlabel(\"Smoking History\")\n",
    "    axes[10].legend(title=\"Diabetes\", labels=[\"No\", \"Yes\"])\n",
    "\n",
    "    numerical_cols = [\n",
    "        \"age\",\n",
    "        \"bmi\",\n",
    "        \"HbA1c_level\",\n",
    "        \"blood_glucose_level\",\n",
    "        \"hypertension\",\n",
    "        \"heart_disease\",\n",
    "        \"diabetes\",\n",
    "    ]\n",
    "    corr_data = data[numerical_cols].replace([np.inf, -np.inf], np.nan).dropna()\n",
    "    correlation_matrix = corr_data.corr()\n",
    "    sns.heatmap(\n",
    "        correlation_matrix,\n",
    "        annot=True,\n",
    "        cmap=\"vlag\",\n",
    "        fmt=\".2f\",\n",
    "        linewidths=0.5,\n",
    "        ax=axes[11],\n",
    "    )\n",
    "    axes[11].set_title(\"Correlation Matrix (Numerical Features)\")\n",
    "    axes[11].tick_params(axis=\"x\", rotation=45)\n",
    "    axes[11].tick_params(axis=\"y\", rotation=0)\n",
    "\n",
    "    gender_diabetes_pct = data.groupby(\"gender\")[\"diabetes\"].mean().reset_index()\n",
    "    gender_diabetes_pct[\"diabetes\"] *= 100  # Convert proportion to percentage\n",
    "    sns.barplot(\n",
    "        x=\"gender\",\n",
    "        y=\"diabetes\",\n",
    "        data=gender_diabetes_pct,\n",
    "        ax=axes[12],\n",
    "        palette=\"Blues\",\n",
    "        hue=\"gender\",\n",
    "        legend=False,\n",
    "    )\n",
    "    axes[12].set_title(\"Diabetes Percentage by Gender\")\n",
    "    axes[12].set_ylabel(\"Diabetes (%)\")\n",
    "    axes[12].set_xlabel(\"Gender\")\n",
    "    for container in axes[12].containers:\n",
    "        axes[12].bar_label(container, fmt=\"%.1f%%\")\n",
    "\n",
    "    hypertension_diabetes_pct = (\n",
    "        data.groupby(\"hypertension\")[\"diabetes\"].mean().reset_index()\n",
    "    )\n",
    "    hypertension_diabetes_pct[\"diabetes\"] *= 100\n",
    "    hypertension_diabetes_pct[\"hypertension\"] = hypertension_diabetes_pct[\n",
    "        \"hypertension\"\n",
    "    ].map({0: \"No\", 1: \"Yes\"})\n",
    "    sns.barplot(\n",
    "        x=\"hypertension\",\n",
    "        y=\"diabetes\",\n",
    "        data=hypertension_diabetes_pct,\n",
    "        ax=axes[13],\n",
    "        palette=\"Reds\",\n",
    "        hue=\"hypertension\",\n",
    "        legend=False,\n",
    "    )\n",
    "    axes[13].set_title(\"Diabetes Percentage by Hypertension\")\n",
    "    axes[13].set_ylabel(\"Diabetes (%)\")\n",
    "    axes[13].set_xlabel(\"Hypertension Status\")\n",
    "    for container in axes[13].containers:\n",
    "        axes[13].bar_label(container, fmt=\"%.1f%%\")\n",
    "\n",
    "    heart_disease_diabetes_pct = (\n",
    "        data.groupby(\"heart_disease\")[\"diabetes\"].mean().reset_index()\n",
    "    )\n",
    "    heart_disease_diabetes_pct[\"diabetes\"] *= 100\n",
    "    heart_disease_diabetes_pct[\"heart_disease\"] = heart_disease_diabetes_pct[\n",
    "        \"heart_disease\"\n",
    "    ].map({0: \"No\", 1: \"Yes\"})\n",
    "    sns.barplot(\n",
    "        x=\"heart_disease\",\n",
    "        y=\"diabetes\",\n",
    "        data=heart_disease_diabetes_pct,\n",
    "        ax=axes[14],\n",
    "        palette=\"Greens\",\n",
    "        hue=\"heart_disease\",\n",
    "        legend=False,\n",
    "    )\n",
    "    axes[14].set_title(\"Diabetes Percentage by Heart Disease\")\n",
    "    axes[14].set_ylabel(\"Diabetes (%)\")\n",
    "    axes[14].set_xlabel(\"Heart Disease Status\")\n",
    "    for container in axes[14].containers:\n",
    "        axes[14].bar_label(container, fmt=\"%.1f%%\")\n",
    "\n",
    "    plt.tight_layout()\n",
    "    plt.show()"
   ]
  },
  {
   "cell_type": "code",
   "execution_count": 9,
   "id": "86fee98e",
   "metadata": {},
   "outputs": [],
   "source": [
    "def numerization(data):\n",
    "    object_columns = data.select_dtypes(\"object\").columns\n",
    "    encoder = OneHotEncoder(sparse_output=False, handle_unknown=\"ignore\")\n",
    "    encoder.fit(data[object_columns])\n",
    "    encoded_array = encoder.transform(data[object_columns])\n",
    "    encoded_columns = encoder.get_feature_names_out(object_columns)\n",
    "\n",
    "    encoded_df = pd.DataFrame(encoded_array, columns=encoded_columns, index=data.index)\n",
    "    non_cat_data = data.drop(columns=object_columns)\n",
    "    final_df = pd.concat([non_cat_data, encoded_df], axis=1)\n",
    "\n",
    "    return final_df"
   ]
  },
  {
   "cell_type": "code",
   "execution_count": 10,
   "id": "016fc1e6",
   "metadata": {},
   "outputs": [],
   "source": [
    "processed_data = numerization(data)"
   ]
  },
  {
   "cell_type": "code",
   "execution_count": 11,
   "id": "115b2aa9",
   "metadata": {},
   "outputs": [],
   "source": [
    "def split_data(data, val_size=0.25):\n",
    "    columns = list((data).columns)\n",
    "    columns.remove(\"diabetes\")\n",
    "    X = data[columns]\n",
    "    y = data.diabetes\n",
    "\n",
    "    X_train, X_test, y_train, y_test = train_test_split(\n",
    "        X, y, test_size=val_size * 2, random_state=42\n",
    "    )\n",
    "\n",
    "    return X_train, X_test, y_train, y_test"
   ]
  },
  {
   "cell_type": "code",
   "execution_count": 12,
   "id": "e6a6152a",
   "metadata": {},
   "outputs": [],
   "source": [
    "X_train, X_val, y_train, y_val = split_data(processed_data)"
   ]
  },
  {
   "cell_type": "code",
   "execution_count": 13,
   "id": "082a61fb",
   "metadata": {},
   "outputs": [],
   "source": [
    "def train_xgb_model(X, y, n_estimators, max_depth):\n",
    "    model = XGBRegressor(\n",
    "        random_state=42, n_jobs=-1, n_estimators=n_estimators, max_depth=max_depth\n",
    "    )\n",
    "    model.fit(X, y)\n",
    "    return model\n",
    "\n",
    "\n",
    "def binarize(Y, treshold=0.7):\n",
    "    return (Y > treshold).astype(int)\n",
    "\n",
    "\n",
    "def evaluate_model(model, X_train, X_val, y_train, y_val, threshold=0.5, printit=False):\n",
    "    train_preds_continuous = model.predict(X_train)\n",
    "    val_preds_continuous = model.predict(X_val)\n",
    "\n",
    "    train_preds_binary = (train_preds_continuous >= threshold).astype(int)\n",
    "    val_preds_binary = (val_preds_continuous >= threshold).astype(int)\n",
    "\n",
    "    train_acc = accuracy_score(y_train, train_preds_binary)\n",
    "    val_acc = accuracy_score(y_val, val_preds_binary)\n",
    "\n",
    "    if printit:\n",
    "        print(f\"Accuracy on training data: {round(100 * train_acc, 2)}%\")\n",
    "        print(f\"Accuracy on validation data: {round(100 * val_acc, 2)}%\")\n",
    "\n",
    "    return train_acc, val_acc\n",
    "\n",
    "\n",
    "def train_logistic_regression(X, y):\n",
    "    model = LogisticRegression(max_iter=10_000, n_jobs=-1)\n",
    "    model.fit(X, y)\n",
    "    return model\n",
    "\n",
    "\n",
    "def naive_model(X_input):\n",
    "    return np.zeros(len(X_input))\n",
    "\n",
    "\n",
    "def train_decision_tree(X, y):\n",
    "    model = DecisionTreeClassifier(random_state=42, max_depth=3)\n",
    "    model.fit(X, y)\n",
    "    return model\n",
    "\n",
    "\n",
    "def get_confusion_matrix(model, X_val, y_val, threshold=0.5, printit=False):\n",
    "    val_preds_continuous = model.predict(X_val)\n",
    "\n",
    "    if val_preds_continuous.ndim > 1 and val_preds_continuous.shape[1] > 1:\n",
    "        val_preds_continuous = val_preds_continuous[:, 1]\n",
    "    elif val_preds_continuous.ndim > 1 and val_preds_continuous.shape[1] == 1:\n",
    "        val_preds_continuous = val_preds_continuous.flatten()\n",
    "\n",
    "    val_preds_binary = (val_preds_continuous >= threshold).astype(int)\n",
    "\n",
    "    cm = confusion_matrix(y_val, val_preds_binary)\n",
    "\n",
    "    if printit:\n",
    "        print(\"Confusion Matrix (Validation Set):\")\n",
    "        print(cm)\n",
    "\n",
    "    return cm"
   ]
  },
  {
   "cell_type": "code",
   "execution_count": 14,
   "id": "d016aa84",
   "metadata": {},
   "outputs": [
    {
     "name": "stdout",
     "output_type": "stream",
     "text": [
      "Accuracy on training data: 97.18%\n",
      "Accuracy on validation data: 97.19%\n"
     ]
    },
    {
     "data": {
      "image/png": "[encoded data removed]",
      "text/plain": [
       "<Figure size 6000x6000 with 1 Axes>"
      ]
     },
     "metadata": {},
     "output_type": "display_data"
    }
   ],
   "source": [
    "XGBMODEL = train_xgb_model(X_train, y_train, 4, 2)\n",
    "y = XGBMODEL.predict(X_train)\n",
    "evaluate_model(XGBMODEL, X_train, X_val, y_train, y_val, threshold=0.5, printit=True)\n",
    "\n",
    "fig, ax = plt.subplots(figsize=(60, 60))\n",
    "plot_tree(XGBMODEL, rankdir=\"LR\", ax=ax)\n",
    "plt.show()"
   ]
  },
  {
   "cell_type": "code",
   "execution_count": 15,
   "id": "e3a1fc5d",
   "metadata": {},
   "outputs": [
    {
     "name": "stdout",
     "output_type": "stream",
     "text": [
      "Accuracy on training data: 96.04%\n",
      "Accuracy on validation data: 96.01%\n"
     ]
    },
    {
     "data": {
      "text/plain": [
       "(0.9603728671160809, 0.9601128203076553)"
      ]
     },
     "execution_count": 15,
     "metadata": {},
     "output_type": "execute_result"
    }
   ],
   "source": [
    "LR = train_logistic_regression(X_train, y_train)\n",
    "evaluate_model(LR, X_train, X_val, y_train, y_val, threshold=0.5, printit=True)"
   ]
  },
  {
   "cell_type": "code",
   "execution_count": 16,
   "id": "448c46a8",
   "metadata": {},
   "outputs": [],
   "source": [
    "decision_tree_model = train_decision_tree(X_train, y_train)"
   ]
  },
  {
   "cell_type": "code",
   "execution_count": 17,
   "id": "d3594d4a",
   "metadata": {},
   "outputs": [
    {
     "name": "stdout",
     "output_type": "stream",
     "text": [
      "Accuracy on training data: 97.18%\n",
      "Accuracy on validation data: 97.19%\n"
     ]
    },
    {
     "data": {
      "text/plain": [
       "(0.9717949230861556, 0.9719349482906924)"
      ]
     },
     "execution_count": 17,
     "metadata": {},
     "output_type": "execute_result"
    }
   ],
   "source": [
    "evaluate_model(\n",
    "    decision_tree_model, X_train, X_val, y_train, y_val, threshold=0.5, printit=True\n",
    ")"
   ]
  },
  {
   "cell_type": "code",
   "execution_count": 18,
   "id": "911fa76f",
   "metadata": {},
   "outputs": [
    {
     "data": {
      "text/plain": [
       "diabetes\n",
       "0           91482\n",
       "1            8500\n",
       "Name: count, dtype: int64"
      ]
     },
     "execution_count": 18,
     "metadata": {},
     "output_type": "execute_result"
    }
   ],
   "source": [
    "data[[\"diabetes\"]].value_counts()"
   ]
  },
  {
   "cell_type": "code",
   "execution_count": null,
   "id": "1c1ac70a",
   "metadata": {},
   "outputs": [],
   "source": [
    "\n",
    "\n",
    "def analyze_decision_tree(model):\n",
    "    # Basic check for scikit-learn tree attributes\n",
    "    if not hasattr(model, \"get_depth\") or not hasattr(model, \"get_n_leaves\"):\n",
    "        print(\n",
    "            \"Error: Model does not have 'get_depth' or 'get_n_leaves' methods. \"\n",
    "            \"Expected a trained scikit-learn Decision Tree model.\"\n",
    "        )\n",
    "        return\n",
    "\n",
    "    print(\"--- Decision Tree Analysis ---\")\n",
    "    try:\n",
    "        depth = model.get_depth()\n",
    "        leaves = model.get_n_leaves()\n",
    "        print(f\"Maximum Depth: {depth}\")\n",
    "        print(f\"Number of Leaves: {leaves}\")\n",
    "    except Exception as e:\n",
    "        print(f\"Error analyzing decision tree: {e}\")\n",
    "    print(\"------------------------------\")\n"
   ]
  },
  {
   "cell_type": "code",
   "execution_count": null,
   "id": "f2b9849a",
   "metadata": {},
   "outputs": [],
   "source": [
    "analyze_linear_regression()"
   ]
  },
  {
   "cell_type": "code",
   "execution_count": 16,
   "id": "dad2fea0",
   "metadata": {},
   "outputs": [
    {
     "name": "stdout",
     "output_type": "stream",
     "text": [
      "35.2 ms ± 2.88 ms per loop (mean ± std. dev. of 7 runs, 10 loops each)\n"
     ]
    }
   ],
   "source": [
    "%%timeit\n",
    "train_decision_tree(X_train, y_train)\n"
   ]
  },
  {
   "cell_type": "code",
   "execution_count": 17,
   "id": "f8ac8645",
   "metadata": {},
   "outputs": [
    {
     "name": "stdout",
     "output_type": "stream",
     "text": [
      "5.1 s ± 116 ms per loop (mean ± std. dev. of 7 runs, 1 loop each)\n"
     ]
    }
   ],
   "source": [
    "%%timeit\n",
    "train_logistic_regression(X_train, y_train)\n"
   ]
  },
  {
   "cell_type": "code",
   "execution_count": 18,
   "id": "cba2f53c",
   "metadata": {},
   "outputs": [
    {
     "name": "stdout",
     "output_type": "stream",
     "text": [
      "32.7 ms ± 8.57 ms per loop (mean ± std. dev. of 7 runs, 10 loops each)\n"
     ]
    }
   ],
   "source": [
    "%%timeit\n",
    "train_xgb_model(X_train, y_train, 4, 2)"
   ]
  },
  {
   "cell_type": "markdown",
   "id": "5626b16f",
   "metadata": {},
   "source": [
    "---\n"
   ]
  },
  {
   "cell_type": "code",
   "execution_count": 19,
   "id": "df4d2a66",
   "metadata": {},
   "outputs": [
    {
     "name": "stdout",
     "output_type": "stream",
     "text": [
      "4.15 ms ± 2.22 ms per loop (mean ± std. dev. of 7 runs, 100 loops each)\n"
     ]
    }
   ],
   "source": [
    "%%timeit\n",
    "XGBMODEL.predict(X_val)"
   ]
  },
  {
   "cell_type": "code",
   "execution_count": 20,
   "id": "bd651001",
   "metadata": {},
   "outputs": [
    {
     "name": "stdout",
     "output_type": "stream",
     "text": [
      "4.1 ms ± 282 μs per loop (mean ± std. dev. of 7 runs, 100 loops each)\n"
     ]
    }
   ],
   "source": [
    "%%timeit\n",
    "LR.predict(X_val)"
   ]
  },
  {
   "cell_type": "code",
   "execution_count": 21,
   "id": "5bfa0743",
   "metadata": {},
   "outputs": [
    {
     "name": "stdout",
     "output_type": "stream",
     "text": [
      "5.43 ms ± 274 μs per loop (mean ± std. dev. of 7 runs, 100 loops each)\n"
     ]
    }
   ],
   "source": [
    "%%timeit\n",
    "decision_tree_model.predict(X_val)"
   ]
  },
  {
   "cell_type": "code",
   "execution_count": 22,
   "id": "db884abd",
   "metadata": {},
   "outputs": [
    {
     "name": "stdout",
     "output_type": "stream",
     "text": [
      "6 μs ± 61.9 ns per loop (mean ± std. dev. of 7 runs, 100,000 loops each)\n"
     ]
    }
   ],
   "source": [
    "%%timeit\n",
    "naive_model(X_val)"
   ]
  },
  {
   "cell_type": "code",
   "execution_count": 23,
   "id": "a5bcb030",
   "metadata": {},
   "outputs": [
    {
     "name": "stdout",
     "output_type": "stream",
     "text": [
      "Confusion Matrix (Validation Set):\n",
      "[[45727     0]\n",
      " [ 1403  2861]]\n",
      "Confusion Matrix (Validation Set):\n",
      "[[45727     0]\n",
      " [ 1403  2861]]\n",
      "Confusion Matrix (Validation Set):\n",
      "[[45295   432]\n",
      " [ 1562  2702]]\n"
     ]
    },
    {
     "data": {
      "text/plain": [
       "array([[45295,   432],\n",
       "       [ 1562,  2702]])"
      ]
     },
     "execution_count": 23,
     "metadata": {},
     "output_type": "execute_result"
    }
   ],
   "source": [
    "get_confusion_matrix(XGBMODEL, X_val, y_val, printit=True)\n",
    "get_confusion_matrix(decision_tree_model, X_val, y_val, printit=True)\n",
    "get_confusion_matrix(LR, X_val, y_val, printit=True)"
   ]
  },
  {
   "cell_type": "code",
   "execution_count": 24,
   "id": "8bd7001f",
   "metadata": {},
   "outputs": [],
   "source": [
    "Model_pd = pd.DataFrame(\n",
    "    {\n",
    "        \"Model\": [\n",
    "            \"Naive always no\",\n",
    "            \"Logistical Regression\",\n",
    "            \"XGBoost\",\n",
    "            \"Decision Tree\",\n",
    "        ],\n",
    "        \"Training Time (ms)\": [0, 5210, 38.8, 22.3],\n",
    "        \"Accuracy Score %\": [90.00, 96.01, 97.19, 97.18],\n",
    "        \"Predicting Time (ms)\": [0.005, 4.81, 2.9, 6.46],\n",
    "        \"True Positives\": [0, 45295, 45727, 45727],\n",
    "        \"False Negatives\": [4264, 1562, 1403, 1403],\n",
    "        \"ROC Auc Score\": [np.nan, 0.91, 0.98, 0.98],\n",
    "        \"Size (kb)\": [0, 1.19, 7.80, 2.00],\n",
    "    }\n",
    ")"
   ]
  },
  {
   "cell_type": "code",
   "execution_count": 25,
   "id": "e367f883",
   "metadata": {},
   "outputs": [
    {
     "name": "stdout",
     "output_type": "stream",
     "text": [
      "0.9851156375981328\n",
      "0.9851156375981328\n",
      "0.9144107601943695\n"
     ]
    }
   ],
   "source": [
    "print(roc_auc_score(binarize(XGBMODEL.predict(X_val)), y_val))\n",
    "print(roc_auc_score(decision_tree_model.predict(X_val), y_val))\n",
    "print(roc_auc_score(LR.predict(X_val), y_val))"
   ]
  },
  {
   "cell_type": "code",
   "execution_count": 26,
   "id": "1c3416cc",
   "metadata": {},
   "outputs": [
    {
     "name": "stdout",
     "output_type": "stream",
     "text": [
      "XGBoost Model Size: 7.80 KB\n",
      "Logistic Regression Model Size: 1.19 KB\n",
      "Decision Tree Model Size: 2.00 KB\n"
     ]
    }
   ],
   "source": [
    "import pickle\n",
    "import sys\n",
    "\n",
    "\n",
    "def get_model_size_in_mb(model):\n",
    "    model_bytes = pickle.dumps(model)\n",
    "    size_in_mb = sys.getsizeof(model_bytes) / (1024)\n",
    "    return size_in_mb\n",
    "\n",
    "\n",
    "xgb_size = get_model_size_in_mb(XGBMODEL)\n",
    "lr_size = get_model_size_in_mb(LR)\n",
    "dt_size = get_model_size_in_mb(decision_tree_model)\n",
    "\n",
    "print(f\"XGBoost Model Size: {xgb_size:.2f} KB\")\n",
    "print(f\"Logistic Regression Model Size: {lr_size:.2f} KB\")\n",
    "print(f\"Decision Tree Model Size: {dt_size:.2f} KB\")\n"
   ]
  },
  {
   "cell_type": "code",
   "execution_count": 27,
   "id": "7011159b",
   "metadata": {},
   "outputs": [
    {
     "name": "stdout",
     "output_type": "stream",
     "text": [
      "                   Model  Training Time (ms)  Accuracy Score %  \\\n",
      "0        Naive always no                 0.0             90.00   \n",
      "1  Logistical Regression              5210.0             96.01   \n",
      "2                XGBoost                38.8             97.19   \n",
      "3          Decision Tree                22.3             97.18   \n",
      "\n",
      "   Predicting Time (ms)  True Positives  False Negatives  ROC Auc Score  \\\n",
      "0                 0.005               0             4264            NaN   \n",
      "1                 4.810           45295             1562           0.91   \n",
      "2                 2.900           45727             1403           0.98   \n",
      "3                 6.460           45727             1403           0.98   \n",
      "\n",
      "   Size (kb)  \n",
      "0       0.00  \n",
      "1       1.19  \n",
      "2       7.80  \n",
      "3       2.00  \n"
     ]
    }
   ],
   "source": [
    "print(Model_pd)"
   ]
  },
  {
   "cell_type": "code",
   "execution_count": null,
   "id": "2d3b398f",
   "metadata": {},
   "outputs": [],
   "source": []
  },
  {
   "cell_type": "code",
   "execution_count": null,
   "id": "c0b610de",
   "metadata": {},
   "outputs": [],
   "source": []
  }
 ],
 "metadata": {
  "kernelspec": {
   "display_name": "Python 3",
   "language": "python",
   "name": "python3"
  },
  "language_info": {
   "codemirror_mode": {
    "name": "ipython",
    "version": 3
   },
   "file_extension": ".py",
   "mimetype": "text/x-python",
   "name": "python",
   "nbconvert_exporter": "python",
   "pygments_lexer": "ipython3",
   "version": "3.13.2"
  }
 },
 "nbformat": 4,
 "nbformat_minor": 5
}
